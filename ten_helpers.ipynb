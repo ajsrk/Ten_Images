{
 "cells": [
  {
   "cell_type": "code",
   "execution_count": 2,
   "metadata": {
    "collapsed": false
   },
   "outputs": [
    {
     "data": {
      "text/html": [
       "<script>\n",
       "code_show=true; \n",
       "function code_toggle() {\n",
       " if (code_show){\n",
       " $('div.input').hide();\n",
       " } else {\n",
       " $('div.input').show();\n",
       " }\n",
       " code_show = !code_show\n",
       "} \n",
       "$( document ).ready(code_toggle);\n",
       "</script>\n",
       "<form action=\"javascript:code_toggle()\"><input type=\"submit\" value=\"Click here to toggle on/off the raw code.\"></form>"
      ],
      "text/plain": [
       "<IPython.core.display.HTML object>"
      ]
     },
     "execution_count": 2,
     "metadata": {},
     "output_type": "execute_result"
    }
   ],
   "source": [
    "from IPython.display import HTML\n",
    "\n",
    "HTML('''<script>\n",
    "code_show=true; \n",
    "function code_toggle() {\n",
    " if (code_show){\n",
    " $('div.input').hide();\n",
    " } else {\n",
    " $('div.input').show();\n",
    " }\n",
    " code_show = !code_show\n",
    "} \n",
    "$( document ).ready(code_toggle);\n",
    "</script>\n",
    "<form action=\"javascript:code_toggle()\"><input type=\"submit\" value=\"Click here to toggle on/off the raw code.\"></form>''')"
   ]
  },
  {
   "cell_type": "markdown",
   "metadata": {},
   "source": [
    "<h1>Interactive Session for Evaluating Graphs</h1>"
   ]
  },
  {
   "cell_type": "code",
   "execution_count": 9,
   "metadata": {
    "collapsed": false
   },
   "outputs": [
    {
     "name": "stdout",
     "output_type": "stream",
     "text": [
      "[[[  1   1   1]\n",
      "  [  8   8   8]]\n",
      "\n",
      " [[ 27  27  27]\n",
      "  [ 64  64  64]]\n",
      "\n",
      " [[125 125 125]\n",
      "  [216 216 216]]]\n"
     ]
    }
   ],
   "source": [
    "import tensorflow as tf\n",
    "from IPython.display import display\n",
    "\n",
    "sess1 = tf.InteractiveSession()\n",
    "\n",
    "input = tf.Variable([[[1, 1, 1], [2, 2, 2]],\n",
    "                    [[3, 3, 3], [4, 4, 4]],\n",
    "                    [[5, 5, 5], [6, 6, 6]]])\n",
    "\n",
    "\n",
    "input.initializer.run()\n",
    "p1 = tf.pow(input,3)\n",
    "print(p1.eval())\n"
   ]
  },
  {
   "cell_type": "markdown",
   "metadata": {},
   "source": [
    "<h1>Regular Session for evaluating Graphs</h1>"
   ]
  },
  {
   "cell_type": "code",
   "execution_count": 7,
   "metadata": {
    "collapsed": false
   },
   "outputs": [
    {
     "name": "stdout",
     "output_type": "stream",
     "text": [
      "[[[  1   1   1]\n",
      "  [  8   8   8]]\n",
      "\n",
      " [[ 27  27  27]\n",
      "  [ 64  64  64]]\n",
      "\n",
      " [[125 125 125]\n",
      "  [216 216 216]]]\n"
     ]
    }
   ],
   "source": [
    "import tensorflow as tf\n",
    "from IPython.display import display\n",
    "\n",
    "input = tf.Variable([[[1, 1, 1], [2, 2, 2]],\n",
    "                    [[3, 3, 3], [4, 4, 4]],\n",
    "                    [[5, 5, 5], [6, 6, 6]]])\n",
    "\n",
    "with tf.Session() as sess2:\n",
    "    init_op = tf.global_variables_initializer()\n",
    "    sess2.run(init_op)\n",
    "    p2 = tf.pow(input,3)\n",
    "    print(sess2.run(p2))"
   ]
  },
  {
   "cell_type": "markdown",
   "metadata": {},
   "source": [
    "<h1>tf.strided_slice()</h1>"
   ]
  },
  {
   "cell_type": "code",
   "execution_count": 2,
   "metadata": {
    "collapsed": false
   },
   "outputs": [
    {
     "name": "stdout",
     "output_type": "stream",
     "text": [
      "Input is -\n",
      "[[[1 1 1]\n",
      "  [2 2 2]]\n",
      "\n",
      " [[3 3 3]\n",
      "  [4 4 4]]\n",
      "\n",
      " [[5 5 5]\n",
      "  [6 6 6]]]\n",
      "\n",
      "Ouput is -\n",
      "[[[3 3 3]]]\n"
     ]
    }
   ],
   "source": [
    "\n",
    "import tensorflow as tf\n",
    "from IPython.display import display\n",
    "\n",
    "sess1 = tf.InteractiveSession()\n",
    "\n",
    "input = tf.Variable([[[1, 1, 1], [2, 2, 2]],\n",
    "                    [[3, 3, 3], [4, 4, 4]],\n",
    "                    [[5, 5, 5], [6, 6, 6]]])\n",
    "input.initializer.run()\n",
    "print('Input is -')\n",
    "print(input.eval())\n",
    "w = tf.strided_slice(input,[1,0,0],[2,1,3],[1,1,1])\n",
    "print('\\nOuput is -')\n",
    "print(w.eval())"
   ]
  },
  {
   "cell_type": "code",
   "execution_count": null,
   "metadata": {
    "collapsed": true
   },
   "outputs": [],
   "source": []
  }
 ],
 "metadata": {
  "anaconda-cloud": {},
  "kernelspec": {
   "display_name": "Python [conda root]",
   "language": "python",
   "name": "conda-root-py"
  },
  "language_info": {
   "codemirror_mode": {
    "name": "ipython",
    "version": 3
   },
   "file_extension": ".py",
   "mimetype": "text/x-python",
   "name": "python",
   "nbconvert_exporter": "python",
   "pygments_lexer": "ipython3",
   "version": "3.5.2"
  }
 },
 "nbformat": 4,
 "nbformat_minor": 0
}
