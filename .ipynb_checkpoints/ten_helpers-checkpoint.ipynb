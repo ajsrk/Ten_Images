{
 "cells": [
  {
   "cell_type": "code",
   "execution_count": 55,
   "metadata": {
    "collapsed": false
   },
   "outputs": [
    {
     "data": {
      "text/html": [
       "<h1>Evaluating Variables:</h1>"
      ],
      "text/plain": [
       "<IPython.core.display.HTML object>"
      ]
     },
     "metadata": {},
     "output_type": "display_data"
    },
    {
     "data": {
      "text/html": [
       "<h2 style=\"color:#069\">Launching an Interactive Session</h2>"
      ],
      "text/plain": [
       "<IPython.core.display.HTML object>"
      ]
     },
     "metadata": {},
     "output_type": "display_data"
    },
    {
     "name": "stdout",
     "output_type": "stream",
     "text": [
      "[[[  1   1   1]\n",
      "  [  8   8   8]]\n",
      "\n",
      " [[ 27  27  27]\n",
      "  [ 64  64  64]]\n",
      "\n",
      " [[125 125 125]\n",
      "  [216 216 216]]]\n"
     ]
    },
    {
     "data": {
      "text/html": [
       "<h2 style=\"color:#069\">Launching a normal Session</h2>"
      ],
      "text/plain": [
       "<IPython.core.display.HTML object>"
      ]
     },
     "metadata": {},
     "output_type": "display_data"
    },
    {
     "name": "stdout",
     "output_type": "stream",
     "text": [
      "[[[  1   1   1]\n",
      "  [  8   8   8]]\n",
      "\n",
      " [[ 27  27  27]\n",
      "  [ 64  64  64]]\n",
      "\n",
      " [[125 125 125]\n",
      "  [216 216 216]]]\n"
     ]
    }
   ],
   "source": [
    "import tensorflow as tf\n",
    "from IPython.display import display\n",
    "\n",
    "display(HTML('<h1>Evaluating Variables:</h1>'))\n",
    "display(HTML('<h2 style=\"color:#069\">Launching an Interactive Session</h2>'))\n",
    "\n",
    "sess1 = tf.InteractiveSession()\n",
    "\n",
    "input = tf.Variable([[[1, 1, 1], [2, 2, 2]],\n",
    "                    [[3, 3, 3], [4, 4, 4]],\n",
    "                    [[5, 5, 5], [6, 6, 6]]])\n",
    "\n",
    "\n",
    "input.initializer.run()\n",
    "p1 = tf.pow(input,3)\n",
    "print(p1.eval())\n",
    "\n",
    "display(HTML('<h2 style=\"color:#069\">Launching a normal Session</h2>'))\n",
    "\n",
    "with tf.Session() as sess2:\n",
    "    init_op = tf.initialize_all_variables()\n",
    "    sess2.run(init_op)\n",
    "    p2 = tf.pow(input,3)\n",
    "    print(sess2.run(p2))\n",
    "\n",
    "\n"
   ]
  },
  {
   "cell_type": "code",
   "execution_count": 56,
   "metadata": {
    "collapsed": false
   },
   "outputs": [
    {
     "data": {
      "text/html": [
       "<h1>Slicing Tensors:</h1>"
      ],
      "text/plain": [
       "<IPython.core.display.HTML object>"
      ]
     },
     "metadata": {},
     "output_type": "display_data"
    },
    {
     "name": "stdout",
     "output_type": "stream",
     "text": [
      "[[[3 3 3]]]\n"
     ]
    }
   ],
   "source": [
    "display(HTML('<h1>Slicing Tensors:</h1>'))\n",
    "input.initializer.run()\n",
    "w = tf.strided_slice(input,[1,0,0],[2,1,3],[1,1,1])\n",
    "print(w.eval())"
   ]
  },
  {
   "cell_type": "code",
   "execution_count": null,
   "metadata": {
    "collapsed": true
   },
   "outputs": [],
   "source": []
  }
 ],
 "metadata": {
  "anaconda-cloud": {},
  "kernelspec": {
   "display_name": "Python [Root]",
   "language": "python",
   "name": "Python [Root]"
  },
  "language_info": {
   "codemirror_mode": {
    "name": "ipython",
    "version": 3
   },
   "file_extension": ".py",
   "mimetype": "text/x-python",
   "name": "python",
   "nbconvert_exporter": "python",
   "pygments_lexer": "ipython3",
   "version": "3.5.2"
  }
 },
 "nbformat": 4,
 "nbformat_minor": 0
}
